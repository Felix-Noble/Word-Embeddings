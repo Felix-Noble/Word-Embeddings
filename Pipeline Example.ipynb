{
 "cells": [
  {
   "cell_type": "code",
   "execution_count": null,
   "id": "88a2035a-fd15-4126-922e-b58d9e6463b4",
   "metadata": {},
   "outputs": [
    {
     "name": "stdout",
     "output_type": "stream",
     "text": [
      "^C\n"
     ]
    }
   ],
   "source": [
    "# install packages (if not installed already)\n",
    "# !pip install scikit-learn\n",
    "# !pip install umap-learn==0.5.2 # Later versions have caused issues \n",
    "# !pip install pandas \n",
    "# !pip install scikit-fuzzy\n",
    "# !pip install sentence-transformers #:NOTE! SBERT is a huge install because of its many dependencies "
   ]
  },
  {
   "cell_type": "code",
   "execution_count": 1,
   "id": "c31c4dfc-65a6-432e-8364-dff95d5f7379",
   "metadata": {},
   "outputs": [],
   "source": [
    "# Import libraries\n",
    "import os,sys\n",
    "import numpy as np\n",
    "import pandas as pd"
   ]
  },
  {
   "cell_type": "code",
   "execution_count": 2,
   "id": "4e0133b2-62ac-40dc-b469-096f7ffb071b",
   "metadata": {},
   "outputs": [
    {
     "name": "stderr",
     "output_type": "stream",
     "text": [
      "C:\\Users\\Felix\\Dropbox\\2. Cognitive science\\Music evoked autobiographical memories\\M_env\\lib\\site-packages\\tqdm\\auto.py:21: TqdmWarning: IProgress not found. Please update jupyter and ipywidgets. See https://ipywidgets.readthedocs.io/en/stable/user_install.html\n",
      "  from .autonotebook import tqdm as notebook_tqdm\n"
     ]
    }
   ],
   "source": [
    "# Import pipeline module (must be in working directory) \n",
    "from M_Pipeline import Mpipe"
   ]
  },
  {
   "cell_type": "code",
   "execution_count": 4,
   "id": "5821b7ef-1047-4690-9319-14b7ad8f521f",
   "metadata": {},
   "outputs": [
    {
     "name": "stdout",
     "output_type": "stream",
     "text": [
      "\u001b[31mWARNING: Output folder does not exist, creating directory :\u001b[0mC:\\Users\\Felix\\Dropbox\\2. Cognitive science\\Music evoked autobiographical memories\\test2_output\n",
      "Mpipe initialised.\n",
      "loaded data from: C:\\Users\\Felix\\Dropbox\\2. Cognitive science\\Music evoked autobiographical memories\\data\\embeddings_dims_only.csv\n",
      "\n",
      "-Type: <class 'pandas.core.frame.DataFrame'>\n",
      "-Shape:(1440, 1536)\n",
      "- -Obervations: 1440\n",
      "- -Features/measures: 1536\n",
      "\n"
     ]
    }
   ],
   "source": [
    "# define constants \n",
    "#ROOT = C:\\Path\\to\\working\\dir\n",
    "ROOT = os.getcwd()\n",
    "data_file = f\"data\\embeddings_dims_only.csv\"\n",
    "# initiate pipeline instance\n",
    "pipe = Mpipe(root=ROOT, data_file=data_file, output=\"test2_output\", custom_fname=\"pipeline example\")  \n"
   ]
  },
  {
   "cell_type": "code",
   "execution_count": 4,
   "id": "6444aa36-fd47-4e9f-8847-85b65153f6f0",
   "metadata": {},
   "outputs": [
    {
     "name": "stdout",
     "output_type": "stream",
     "text": [
      "C:\\Users\\Felix\\Dropbox\\2. Cognitive science\\Music evoked autobiographical memories\n",
      "C:\\Users\\Felix\\Dropbox\\2. Cognitive science\\Music evoked autobiographical memories\\data\\embeddings_dims_only.csv\n",
      "C:\\Users\\Felix\\Dropbox\\2. Cognitive science\\Music evoked autobiographical memories\\output\n",
      "pipeline example\n"
     ]
    }
   ],
   "source": [
    "# check environment has been set up (optional)\n",
    "print(pipe.root)\n",
    "print(pipe.data_file)\n",
    "print(pipe.output)\n",
    "print(pipe.custom_fname)"
   ]
  },
  {
   "cell_type": "code",
   "execution_count": 5,
   "id": "90563805-09cb-4a1b-a22b-26d1b5b734bc",
   "metadata": {},
   "outputs": [
    {
     "name": "stdout",
     "output_type": "stream",
     "text": [
      "         Dim_1     Dim_2     Dim_3     Dim_4     Dim_5     Dim_6     Dim_7  \\\n",
      "0     0.001742 -0.035214  0.000697 -0.039804 -0.005074  0.023931  0.001469   \n",
      "1    -0.014226 -0.019350  0.004850 -0.000617 -0.010268  0.009108 -0.006421   \n",
      "2     0.003295 -0.015494 -0.006459 -0.010937  0.007116  0.033714  0.013897   \n",
      "3     0.002153 -0.002598 -0.005876 -0.049187  0.004492  0.023955 -0.010255   \n",
      "4    -0.009024 -0.011229  0.008006 -0.022260 -0.020670  0.027552  0.000757   \n",
      "...        ...       ...       ...       ...       ...       ...       ...   \n",
      "1435 -0.010437 -0.028773 -0.007514 -0.012440 -0.008314  0.022436  0.007363   \n",
      "1436 -0.005911  0.013607  0.000873 -0.004832  0.007789  0.001696 -0.016244   \n",
      "1437 -0.015794 -0.024212 -0.011052 -0.009515  0.008790  0.029134 -0.002089   \n",
      "1438 -0.017798 -0.020145  0.002627 -0.033553 -0.020309  0.004074  0.024522   \n",
      "1439  0.006710 -0.018482  0.005348 -0.018212  0.018431  0.009241  0.016602   \n",
      "\n",
      "         Dim_8     Dim_9    Dim_10  ...  Dim_1527  Dim_1528  Dim_1529  \\\n",
      "0    -0.008982 -0.003892 -0.006929  ... -0.010729 -0.024199 -0.014981   \n",
      "1    -0.026591 -0.004665 -0.020765  ...  0.029931 -0.037171 -0.032582   \n",
      "2    -0.009952  0.010943 -0.028859  ...  0.030221 -0.007685  0.024152   \n",
      "3    -0.023591 -0.008676 -0.018605  ...  0.018843 -0.012579  0.011639   \n",
      "4    -0.009751 -0.015378 -0.030781  ...  0.012857 -0.015167 -0.000251   \n",
      "...        ...       ...       ...  ...       ...       ...       ...   \n",
      "1435 -0.003597 -0.003830 -0.011936  ...  0.025699 -0.029957 -0.016944   \n",
      "1436 -0.003626 -0.012493 -0.006611  ...  0.027982 -0.003437  0.003667   \n",
      "1437 -0.022291 -0.010842 -0.014183  ...  0.018757 -0.010773  0.018919   \n",
      "1438 -0.033251 -0.002625 -0.023046  ...  0.018303  0.007474  0.000230   \n",
      "1439 -0.021857 -0.025824 -0.016331  ...  0.020878  0.001689 -0.010639   \n",
      "\n",
      "      Dim_1530  Dim_1531  Dim_1532  Dim_1533  Dim_1534  Dim_1535  Dim_1536  \n",
      "0    -0.028814 -0.014025  0.034857 -0.016167 -0.027565 -0.000575 -0.019889  \n",
      "1    -0.029115 -0.011307  0.001673  0.019822 -0.022448 -0.012926 -0.030797  \n",
      "2    -0.030171 -0.003812  0.033590  0.000356 -0.016981  0.004772 -0.014974  \n",
      "3    -0.018204 -0.008400  0.012735 -0.006421 -0.021650  0.007498 -0.025421  \n",
      "4    -0.022720 -0.013776  0.037216 -0.025018 -0.009074 -0.013018 -0.025962  \n",
      "...        ...       ...       ...       ...       ...       ...       ...  \n",
      "1435 -0.024830  0.010110  0.020559 -0.009354 -0.029151 -0.006409 -0.026253  \n",
      "1436 -0.032155  0.000719 -0.002739 -0.020302 -0.010791  0.003639 -0.038478  \n",
      "1437 -0.022824  0.009794  0.017121 -0.020047 -0.022415  0.009323 -0.009490  \n",
      "1438 -0.030425  0.012009  0.035370 -0.013144 -0.007991 -0.003516 -0.024862  \n",
      "1439 -0.026056 -0.009615  0.006437 -0.027279 -0.015378 -0.020414  0.002840  \n",
      "\n",
      "[1440 rows x 1536 columns]\n"
     ]
    }
   ],
   "source": [
    "print(pipe.data)"
   ]
  },
  {
   "cell_type": "code",
   "execution_count": 6,
   "id": "e070879e-c37a-4f05-b051-3cf727c6009b",
   "metadata": {},
   "outputs": [],
   "source": [
    "# Perform UMAP reduction\n",
    "umap_args = {\"n_components\":2, \"n_neighbors\":15, \"random_state\":2025}  \n",
    "embedings = pipe.data\n",
    "umap_2dim = pipe.UMAP_reduce(embedings, umap_args)"
   ]
  },
  {
   "cell_type": "code",
   "execution_count": 7,
   "id": "5523eaca-f792-45c1-bc29-0cd9da1a9147",
   "metadata": {},
   "outputs": [
    {
     "name": "stdout",
     "output_type": "stream",
     "text": [
      "      Feature_1  Feature_2\n",
      "0     10.478037   9.483509\n",
      "1     10.528924   8.943414\n",
      "2      7.758679  10.497751\n",
      "3     10.528410  10.272689\n",
      "4      7.106784  10.225173\n",
      "...         ...        ...\n",
      "1435  12.367110   8.794509\n",
      "1436   9.733899   9.197390\n",
      "1437   8.904478  11.408129\n",
      "1438   8.102555   8.017445\n",
      "1439   9.295778  10.598564\n",
      "\n",
      "[1440 rows x 2 columns]\n"
     ]
    }
   ],
   "source": [
    "print(umap_2dim)"
   ]
  },
  {
   "cell_type": "code",
   "execution_count": 8,
   "id": "d1d1f045-55d4-45a2-b707-e247cd2622fb",
   "metadata": {},
   "outputs": [],
   "source": [
    "# save umap features (2 options)\n",
    "    # 1. Manual save (all pipe functions output pandas dataframes)\n",
    "umap_2dim.to_csv(f\"{ROOT}\\\\output\\\\umap_2dim manual save.csv\") "
   ]
  },
  {
   "cell_type": "code",
   "execution_count": 9,
   "id": "980d3da4-31be-4625-9cbf-761974791db7",
   "metadata": {},
   "outputs": [
    {
     "name": "stdout",
     "output_type": "stream",
     "text": [
      "DataFrame of shape (1440, 2) saved to C: ... \\output\\umap example.csv\n"
     ]
    }
   ],
   "source": [
    "    # 2. Auto save to output folder \n",
    "# print(pipe.output)\n",
    "pipe.save(umap_2dim, \"umap example\")"
   ]
  },
  {
   "cell_type": "code",
   "execution_count": 14,
   "id": "035ada12-26b6-400a-af50-e5a5dedea55d",
   "metadata": {},
   "outputs": [
    {
     "name": "stdout",
     "output_type": "stream",
     "text": [
      "      labels\n",
      "0          1\n",
      "1          1\n",
      "2          4\n",
      "3          1\n",
      "4          4\n",
      "...      ...\n",
      "1435       2\n",
      "1436       1\n",
      "1437       0\n",
      "1438       3\n",
      "1439       0\n",
      "\n",
      "[1440 rows x 1 columns]\n"
     ]
    }
   ],
   "source": [
    "# KMeans clustering\n",
    "km_args = {\"n_clusters\":5, \"random_state\":2025}\n",
    "labels = pipe.KMEANS(umap_2dim, km_args)\n",
    "print(labels)"
   ]
  },
  {
   "cell_type": "code",
   "execution_count": 12,
   "id": "23327ddc-1c2f-4989-afb6-076dff55c48b",
   "metadata": {},
   "outputs": [
    {
     "name": "stdout",
     "output_type": "stream",
     "text": [
      "DataFrame of shape (1440, 1) saved to C: ... \\output\\kmeans 5 clusters.csv\n"
     ]
    }
   ],
   "source": [
    "pipe.save(labels, \"kmeans 5 clusters\")"
   ]
  },
  {
   "cell_type": "code",
   "execution_count": null,
   "id": "ed3f025a-f4b4-4970-8d88-c6ed5a327090",
   "metadata": {},
   "outputs": [],
   "source": []
  }
 ],
 "metadata": {
  "kernelspec": {
   "display_name": "Python 3 (ipykernel)",
   "language": "python",
   "name": "python3"
  },
  "language_info": {
   "codemirror_mode": {
    "name": "ipython",
    "version": 3
   },
   "file_extension": ".py",
   "mimetype": "text/x-python",
   "name": "python",
   "nbconvert_exporter": "python",
   "pygments_lexer": "ipython3",
   "version": "3.9.13"
  }
 },
 "nbformat": 4,
 "nbformat_minor": 5
}
