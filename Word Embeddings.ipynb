{
 "cells": [
  {
   "cell_type": "code",
   "execution_count": 4,
   "id": "443ec76d-bbe4-4039-9dab-f045b62cc46e",
   "metadata": {},
   "outputs": [],
   "source": [
    "from M_Pipeline import Mpipe\n",
    "import os"
   ]
  },
  {
   "cell_type": "code",
   "execution_count": 14,
   "id": "4cbb7221-c77b-49d4-ad37-6cd2617dd3ee",
   "metadata": {},
   "outputs": [
    {
     "name": "stdout",
     "output_type": "stream",
     "text": [
      "\u001b[31m Output folder does not exist, creating directory \u001b[0mC:\\Users\\Felix\\Dropbox\\2. Cognitive science\\Music evoked autobiographical memories\\data\\SBERT\n",
      "Mpipe initialised.\n",
      "loaded data from: C:\\Users\\Felix\\Dropbox\\2. Cognitive science\\Music evoked autobiographical memories\\data\\mems_descr_only.csv\n",
      "\n",
      "-Type: <class 'pandas.core.frame.DataFrame'>\n",
      "-Shape:(2548, 1)\n",
      "- -Obervations: 2548\n",
      "- -Features/measures: 1\n",
      "\n"
     ]
    }
   ],
   "source": [
    "# define constants \n",
    "#ROOT = C:\\Path\\to\\working\\dir\n",
    "ROOT = r\"C:\\Users\\Felix\\Dropbox\\2. Cognitive science\\Music evoked autobiographical memories\"\n",
    "data_file = f\"data\\mems_descr_only.csv\"\n",
    "# initiate pipeline instance\n",
    "pipe = Mpipe(root=ROOT, data_file=data_file, output=\"data\\\\SBERT\", custom_fname=\"SBERT embeddings\")  \n"
   ]
  },
  {
   "cell_type": "code",
   "execution_count": 15,
   "id": "f4d8d887-8843-452a-9cd0-391d449160a0",
   "metadata": {},
   "outputs": [
    {
     "name": "stdout",
     "output_type": "stream",
     "text": [
      "                                            description\n",
      "0     It was in 2001 and I was on the train to somew...\n",
      "1     Reminds me of my younger days, in school, and ...\n",
      "2     In college I was in an a cappella singing grou...\n",
      "3     This song was playing in the car when my broth...\n",
      "4     At boarding school, on days with heavy snow we...\n",
      "...                                                 ...\n",
      "2543  I am singing this song in the back of a car. I...\n",
      "2544  I am in my house vacuuming and singing this so...\n",
      "2545  general memory of listening to this song and w...\n",
      "2546                                                NaN\n",
      "2547  Reminded of a time in my life when I listened ...\n",
      "\n",
      "[2548 rows x 1 columns]\n"
     ]
    }
   ],
   "source": [
    "print(pipe.data)"
   ]
  },
  {
   "cell_type": "code",
   "execution_count": 16,
   "id": "62ead478-a725-4d8e-8b27-13ded761fdf0",
   "metadata": {},
   "outputs": [],
   "source": [
    "sbert_args = {\"model_name\":\"all-MiniLM-L6-v2\"}\n",
    "embeddings = pipe.SBERT(pipe.data, sbert_args)"
   ]
  },
  {
   "cell_type": "code",
   "execution_count": 17,
   "id": "6b479f52-e4d0-4cdc-bc07-575759a9d7c0",
   "metadata": {},
   "outputs": [
    {
     "name": "stdout",
     "output_type": "stream",
     "text": [
      "      Feature_1  Feature_2  Feature_3  Feature_4  Feature_5  Feature_6  \\\n",
      "0     -0.040066   0.096203  -0.000079  -0.031879   0.008248   0.024112   \n",
      "1      0.012606   0.038430   0.036326   0.020297   0.067641  -0.003741   \n",
      "2     -0.058253   0.031523  -0.009683  -0.071960   0.023834   0.010715   \n",
      "3      0.001402   0.038583   0.068305   0.039289   0.118805   0.015571   \n",
      "4      0.030580   0.015586   0.049164   0.032710   0.104216   0.021968   \n",
      "...         ...        ...        ...        ...        ...        ...   \n",
      "1449   0.017314  -0.038403   0.017762  -0.047686  -0.028724  -0.044205   \n",
      "1450  -0.059628   0.021563   0.010730   0.023070   0.006639  -0.055728   \n",
      "1451   0.046457   0.036516   0.033978  -0.055586   0.050803  -0.093631   \n",
      "1452  -0.001478   0.009533  -0.003103   0.001879   0.020945   0.091881   \n",
      "1453  -0.029311  -0.021126   0.008695   0.015805   0.023955   0.025530   \n",
      "\n",
      "      Feature_7  Feature_8  Feature_9  Feature_10  ...  Feature_375  \\\n",
      "0      0.035383  -0.052511  -0.035793   -0.048782  ...     0.035740   \n",
      "1      0.069043  -0.034439   0.030525   -0.107009  ...     0.075328   \n",
      "2      0.013395  -0.061773   0.024055   -0.047876  ...     0.004626   \n",
      "3      0.058473  -0.050364   0.032369   -0.118950  ...     0.014694   \n",
      "4      0.008990  -0.041864   0.050071   -0.018528  ...     0.086370   \n",
      "...         ...        ...        ...         ...  ...          ...   \n",
      "1449   0.015810  -0.043375   0.043656   -0.040302  ...     0.055385   \n",
      "1450   0.078807  -0.100047  -0.007800   -0.186017  ...     0.065818   \n",
      "1451   0.097457  -0.028279  -0.048104   -0.076020  ...     0.078006   \n",
      "1452   0.009111   0.009661   0.031986   -0.119728  ...     0.078846   \n",
      "1453   0.064137   0.031644  -0.001107   -0.076912  ...     0.082241   \n",
      "\n",
      "      Feature_376  Feature_377  Feature_378  Feature_379  Feature_380  \\\n",
      "0       -0.027313    -0.108319    -0.023511    -0.069215    -0.021111   \n",
      "1        0.036695    -0.134612     0.078500    -0.021675    -0.017724   \n",
      "2        0.073293    -0.051215     0.027449     0.013605    -0.071997   \n",
      "3       -0.003198    -0.107479     0.100622    -0.070859    -0.052221   \n",
      "4        0.051582    -0.068790     0.032540    -0.057946    -0.055280   \n",
      "...           ...          ...          ...          ...          ...   \n",
      "1449     0.032808    -0.079794     0.069816     0.050799    -0.025182   \n",
      "1450    -0.012207    -0.081197     0.056531     0.006629    -0.042312   \n",
      "1451     0.064093    -0.068718    -0.006776    -0.039632     0.003809   \n",
      "1452    -0.012371    -0.020992     0.011064    -0.043380    -0.045242   \n",
      "1453    -0.017835    -0.097546     0.069208    -0.040758    -0.024036   \n",
      "\n",
      "      Feature_381  Feature_382  Feature_383  Feature_384  \n",
      "0        0.024314     0.096843    -0.032368    -0.061854  \n",
      "1        0.086309     0.076641    -0.049438     0.008736  \n",
      "2        0.080065     0.065960    -0.128622    -0.092270  \n",
      "3        0.027814     0.052455    -0.090132    -0.034727  \n",
      "4        0.038582     0.094451    -0.160287    -0.065218  \n",
      "...           ...          ...          ...          ...  \n",
      "1449     0.118982     0.163540    -0.126167    -0.025846  \n",
      "1450    -0.006018     0.050413    -0.084011    -0.052422  \n",
      "1451     0.115853     0.017107    -0.127652    -0.018373  \n",
      "1452     0.063350     0.141930    -0.070540    -0.090207  \n",
      "1453     0.085598     0.086995    -0.105823    -0.052290  \n",
      "\n",
      "[1454 rows x 384 columns]\n"
     ]
    }
   ],
   "source": [
    "print(embeddings)"
   ]
  },
  {
   "cell_type": "code",
   "execution_count": 18,
   "id": "5e78e5df",
   "metadata": {},
   "outputs": [
    {
     "name": "stdout",
     "output_type": "stream",
     "text": [
      "C:\\Users\\Felix\\Dropbox\\2. Cognitive science\\Music evoked autobiographical memories\\data\\SBERT\n"
     ]
    }
   ],
   "source": [
    "print(pipe.output)"
   ]
  },
  {
   "cell_type": "code",
   "execution_count": null,
   "id": "21f31130",
   "metadata": {},
   "outputs": [
    {
     "name": "stdout",
     "output_type": "stream",
     "text": [
      "DataFrame of shape (1454, 384) saved to C: ... \\SBERT\\SBERT embeddings.csv\n"
     ]
    }
   ],
   "source": [
    "pipe.save(embeddings, 'embeddings')"
   ]
  }
 ],
 "metadata": {
  "kernelspec": {
   "display_name": "Python 3",
   "language": "python",
   "name": "python3"
  },
  "language_info": {
   "codemirror_mode": {
    "name": "ipython",
    "version": 3
   },
   "file_extension": ".py",
   "mimetype": "text/x-python",
   "name": "python",
   "nbconvert_exporter": "python",
   "pygments_lexer": "ipython3",
   "version": "3.9.13"
  }
 },
 "nbformat": 4,
 "nbformat_minor": 5
}
