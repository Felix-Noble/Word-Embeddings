{
 "cells": [
  {
   "cell_type": "code",
   "execution_count": 8,
   "id": "07fdac22-043e-4613-b3f0-b9441d3d10f0",
   "metadata": {},
   "outputs": [],
   "source": [
    "import pandas as pd\n",
    "import os"
   ]
  },
  {
   "cell_type": "code",
   "execution_count": 9,
   "id": "82efdae3",
   "metadata": {},
   "outputs": [],
   "source": [
    "root = \"D:\\\\Dropbox\\\\2. Cognitive science\\\\Music evoked autobiographical memories\\\\\""
   ]
  },
  {
   "cell_type": "code",
   "execution_count": 10,
   "id": "c5c48eda-99c0-4ab9-a788-5caf142494cc",
   "metadata": {},
   "outputs": [],
   "source": [
    "df = pd.read_excel(os.path.join(root, \"data\\\\Meamdata_cleaned.xlsx\"))"
   ]
  },
  {
   "cell_type": "code",
   "execution_count": 11,
   "id": "ad2f3d03-33f6-4a3e-9621-46065015548b",
   "metadata": {},
   "outputs": [],
   "source": [
    "descr = df[\"cleaned_desc\"]"
   ]
  },
  {
   "cell_type": "code",
   "execution_count": 12,
   "id": "94e54e76",
   "metadata": {},
   "outputs": [
    {
     "data": {
      "text/plain": [
       "0       it was in 2001 and i was on the train to somew...\n",
       "1       reminds me of my younger days in school and li...\n",
       "2       in college i was in an a cappella singing grou...\n",
       "3       this song was playing in the car when my broth...\n",
       "4       at boarding school on days with heavy snow we ...\n",
       "                              ...                        \n",
       "1425    i think of an old friend of mine when i was in...\n",
       "1426    i am singing this song in the back of a car i ...\n",
       "1427    i am in my house vacuuming and singing this so...\n",
       "1428    general memory of listening to this song and w...\n",
       "1429    reminded of a time in my life when i listened ...\n",
       "Name: cleaned_desc, Length: 1430, dtype: object"
      ]
     },
     "execution_count": 12,
     "metadata": {},
     "output_type": "execute_result"
    }
   ],
   "source": [
    "descr"
   ]
  },
  {
   "cell_type": "code",
   "execution_count": 13,
   "id": "e2c0d6ca",
   "metadata": {},
   "outputs": [],
   "source": [
    "descr.to_csv(os.path.join(root, \"data\\\\M_Descriptions.csv\"), index=False)"
   ]
  }
 ],
 "metadata": {
  "kernelspec": {
   "display_name": "M_envPC",
   "language": "python",
   "name": "python3"
  },
  "language_info": {
   "codemirror_mode": {
    "name": "ipython",
    "version": 3
   },
   "file_extension": ".py",
   "mimetype": "text/x-python",
   "name": "python",
   "nbconvert_exporter": "python",
   "pygments_lexer": "ipython3",
   "version": "3.13.1"
  }
 },
 "nbformat": 4,
 "nbformat_minor": 5
}
