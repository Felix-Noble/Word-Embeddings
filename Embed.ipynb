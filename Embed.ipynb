{
 "cells": [
  {
   "cell_type": "code",
   "execution_count": 4,
   "id": "07fdac22-043e-4613-b3f0-b9441d3d10f0",
   "metadata": {},
   "outputs": [],
   "source": [
    "import os, sys\n",
    "root = \"D:\\\\Dropbox\\\\2. Cognitive science\\\\Music evoked autobiographical memories\\\\\"\n",
    "code_loc = os.path.join(root, \"code\\\\pipeline\\\\\")\n",
    "sys.path.append(code_loc)\n",
    "from M_Pipeline import Mpipe\n"
   ]
  },
  {
   "cell_type": "code",
   "execution_count": 11,
   "id": "0d0a9b51",
   "metadata": {},
   "outputs": [
    {
     "name": "stdout",
     "output_type": "stream",
     "text": [
      "Mpipe initialised.\n",
      "loaded data from: D:\\Dropbox\\2. Cognitive science\\Music evoked autobiographical memories\\data\\M_Descriptions.csv\n",
      "\n",
      "-Type: <class 'pandas.core.frame.DataFrame'>\n",
      "-Shape:(1430, 1)\n",
      "- -Obervations: 1430\n",
      "- -Features/measures: 1\n",
      "\n"
     ]
    }
   ],
   "source": [
    "pipe = Mpipe(root, \"data\\\\M_Descriptions.csv\", \"data\\\\SBERT\\\\\")"
   ]
  },
  {
   "cell_type": "code",
   "execution_count": 12,
   "id": "76fec7b3",
   "metadata": {},
   "outputs": [
    {
     "name": "stdout",
     "output_type": "stream",
     "text": [
      "                                           cleaned_desc\n",
      "0     it was in 2001 and i was on the train to somew...\n",
      "1     reminds me of my younger days in school and li...\n",
      "2     in college i was in an a cappella singing grou...\n",
      "3     this song was playing in the car when my broth...\n",
      "4     at boarding school on days with heavy snow we ...\n",
      "...                                                 ...\n",
      "1425  i think of an old friend of mine when i was in...\n",
      "1426  i am singing this song in the back of a car i ...\n",
      "1427  i am in my house vacuuming and singing this so...\n",
      "1428  general memory of listening to this song and w...\n",
      "1429  reminded of a time in my life when i listened ...\n",
      "\n",
      "[1430 rows x 1 columns]\n"
     ]
    }
   ],
   "source": [
    "print(pipe.data)"
   ]
  },
  {
   "cell_type": "code",
   "execution_count": 13,
   "id": "345bf98b",
   "metadata": {},
   "outputs": [],
   "source": [
    "sbert_args = {\"model_name\":\"all-MiniLM-L6-v2\"} # currently, onlythis argument can be passed to SBERT sentence transformer\n",
    "embed = pipe.SBERT(pipe.data, sbert_args)"
   ]
  },
  {
   "cell_type": "code",
   "execution_count": 14,
   "id": "92a0ffe6",
   "metadata": {},
   "outputs": [
    {
     "name": "stdout",
     "output_type": "stream",
     "text": [
      "      Feature_1  Feature_2  Feature_3  Feature_4  Feature_5  Feature_6  \\\n",
      "0     -0.042112   0.091219   0.000091  -0.030104   0.004176   0.019816   \n",
      "1     -0.000563   0.035439   0.016838   0.034188   0.082212  -0.001630   \n",
      "2     -0.051531   0.014741  -0.002534  -0.071672   0.040086   0.008471   \n",
      "3      0.030427   0.046702   0.061173   0.036397   0.114037   0.022050   \n",
      "4      0.000022   0.024498   0.065740   0.014166   0.116068   0.000735   \n",
      "...         ...        ...        ...        ...        ...        ...   \n",
      "1425   0.009249  -0.040311   0.004107  -0.049341  -0.029124  -0.045151   \n",
      "1426  -0.072453   0.012191   0.009704  -0.000355   0.017255  -0.057014   \n",
      "1427   0.039191   0.023733   0.036337  -0.059261   0.041687  -0.081789   \n",
      "1428   0.001489  -0.010541  -0.005793   0.002782   0.053077   0.091506   \n",
      "1429  -0.055643  -0.036296   0.016855   0.007284   0.033972   0.034639   \n",
      "\n",
      "      Feature_7  Feature_8  Feature_9  Feature_10  ...  Feature_375  \\\n",
      "0      0.028734  -0.050748  -0.052178   -0.055782  ...     0.018921   \n",
      "1      0.066283  -0.043782   0.036031   -0.103457  ...     0.075590   \n",
      "2      0.015279  -0.063403   0.026789   -0.047175  ...    -0.008393   \n",
      "3      0.064021  -0.050022   0.036622   -0.108996  ...     0.033690   \n",
      "4      0.022005  -0.047574   0.043648   -0.007325  ...     0.076150   \n",
      "...         ...        ...        ...         ...  ...          ...   \n",
      "1425   0.027983  -0.053130   0.038263   -0.048039  ...     0.059098   \n",
      "1426   0.106527  -0.091704   0.003846   -0.169021  ...     0.077813   \n",
      "1427   0.104119  -0.038085  -0.038731   -0.076467  ...     0.069558   \n",
      "1428   0.017804   0.011481   0.051128   -0.118067  ...     0.084689   \n",
      "1429   0.060994   0.029920  -0.001525   -0.116114  ...     0.069791   \n",
      "\n",
      "      Feature_376  Feature_377  Feature_378  Feature_379  Feature_380  \\\n",
      "0       -0.034404    -0.101011    -0.007880    -0.075083    -0.020815   \n",
      "1        0.047303    -0.132332     0.062682    -0.033418    -0.019511   \n",
      "2        0.069189    -0.049235     0.038515     0.013322    -0.059914   \n",
      "3        0.004755    -0.106003     0.105326    -0.073503    -0.035666   \n",
      "4        0.055597    -0.085557     0.034770    -0.064969    -0.057286   \n",
      "...           ...          ...          ...          ...          ...   \n",
      "1425     0.028215    -0.065937     0.066920     0.069625    -0.021417   \n",
      "1426    -0.023028    -0.077113     0.068988     0.001605    -0.055599   \n",
      "1427     0.070727    -0.063674    -0.005436    -0.024208     0.002981   \n",
      "1428    -0.008482    -0.026000     0.022507    -0.048467    -0.049566   \n",
      "1429     0.019985    -0.105455     0.060764    -0.027518    -0.045845   \n",
      "\n",
      "      Feature_381  Feature_382  Feature_383  Feature_384  \n",
      "0        0.022252     0.082778    -0.037813    -0.068431  \n",
      "1        0.103777     0.094574    -0.053418     0.011212  \n",
      "2        0.085661     0.062052    -0.143265    -0.091430  \n",
      "3        0.022746     0.048553    -0.079947    -0.032474  \n",
      "4        0.049412     0.074945    -0.145021    -0.080316  \n",
      "...           ...          ...          ...          ...  \n",
      "1425     0.112544     0.166719    -0.114838    -0.017881  \n",
      "1426    -0.015433     0.057546    -0.068084    -0.066423  \n",
      "1427     0.113471     0.012447    -0.132051    -0.017358  \n",
      "1428     0.063365     0.141803    -0.070297    -0.087534  \n",
      "1429     0.070107     0.093421    -0.084392    -0.045563  \n",
      "\n",
      "[1430 rows x 384 columns]\n"
     ]
    }
   ],
   "source": [
    "print(embed)"
   ]
  },
  {
   "cell_type": "code",
   "execution_count": 15,
   "id": "041478c5",
   "metadata": {},
   "outputs": [
    {
     "name": "stdout",
     "output_type": "stream",
     "text": [
      "DataFrame of shape (1430, 384) saved to D: ... \\\\SBERT-L6-v2_embed.csv.csv\n"
     ]
    }
   ],
   "source": [
    "pipe.save(embed,\"SBERT-L6-v2_embed.csv\")"
   ]
  },
  {
   "cell_type": "code",
   "execution_count": 17,
   "id": "72d78710",
   "metadata": {},
   "outputs": [],
   "source": [
    ""
   ]
  }
 ],
 "metadata": {
  "kernelspec": {
   "display_name": "M_envPC",
   "language": "python",
   "name": "python3"
  },
  "language_info": {
   "codemirror_mode": {
    "name": "ipython",
    "version": 3
   },
   "file_extension": ".py",
   "mimetype": "text/x-python",
   "name": "python",
   "nbconvert_exporter": "python",
   "pygments_lexer": "ipython3",
   "version": "3.13.1"
  }
 },
 "nbformat": 4,
 "nbformat_minor": 5
}
